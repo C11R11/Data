{
 "cells": [
  {
   "cell_type": "markdown",
   "id": "fae49471-228a-474d-a30d-75d3f785ac2a",
   "metadata": {},
   "source": [
    "## Using webUi\n",
    "\n",
    "\n",
    "https://stackoverflow.com/questions/25540711/docker-postgres-pgadmin-local-connection\n",
    "\n",
    "\n",
    "```bash\n",
    "\n",
    "#It¡s meeded to change the owner for the volume folder \n",
    "sudo chown -R 5050:5050 /home/pi/data/pgadmin4\n",
    "\n",
    "docker run \\\n",
    "    --rm -d \\\n",
    "    -p 5050:80 \\\n",
    "    -e \"PGADMIN_DEFAULT_EMAIL=name@example.com\" \\\n",
    "    -e \"PGADMIN_DEFAULT_PASSWORD=1234\" \\\n",
    "    -v /home/pi/data/pgadmin4:/var/lib/pgadmin \\\n",
    "    --network my-network \\\n",
    "    dpage/pgadmin4\n",
    "```\n",
    "go to localhost in browser\n",
    "\n",
    "name: container-postgresdb\n",
    "host: host.docker.internal\n",
    "database: postgres\n",
    "user: postgres\n",
    "password: admin"
   ]
  },
  {
   "cell_type": "code",
   "execution_count": null,
   "id": "11636b1c-938d-4e7e-a277-e6573ec4e485",
   "metadata": {},
   "outputs": [],
   "source": []
  },
  {
   "cell_type": "markdown",
   "id": "3b1a99ee-2599-4c33-b017-db1d1d3f33d9",
   "metadata": {},
   "source": [
    "## Using SQLModel \n",
    "\n",
    "SQLModel is a library for interacting with SQL databases from Python code, with Python objects. It is designed to be intuitive, easy to use, highly compatible, and robust.\n",
    "\n",
    "https://sqlmodel.tiangolo.com/\n",
    "https://sqlmodel.tiangolo.com/tutorial/create-db-and-table/\n"
   ]
  },
  {
   "cell_type": "code",
   "execution_count": null,
   "id": "e3eb006d-ec63-4d75-b31e-9145815e646f",
   "metadata": {},
   "outputs": [],
   "source": []
  },
  {
   "cell_type": "code",
   "execution_count": null,
   "id": "0bee0e23-d3a2-4df7-80b0-fd29f36120d1",
   "metadata": {},
   "outputs": [],
   "source": []
  },
  {
   "cell_type": "code",
   "execution_count": null,
   "id": "80306200-b57a-4b87-84e4-1fa2182ac1e6",
   "metadata": {},
   "outputs": [],
   "source": []
  },
  {
   "cell_type": "code",
   "execution_count": null,
   "id": "f45b0014-f8fc-4f45-8bc8-ee78c33043f4",
   "metadata": {},
   "outputs": [],
   "source": []
  },
  {
   "cell_type": "code",
   "execution_count": null,
   "id": "1132c382-7a50-4757-9000-b35f9fe199ee",
   "metadata": {},
   "outputs": [],
   "source": []
  }
 ],
 "metadata": {
  "kernelspec": {
   "display_name": "Python 3 (ipykernel)",
   "language": "python",
   "name": "python3"
  },
  "language_info": {
   "codemirror_mode": {
    "name": "ipython",
    "version": 3
   },
   "file_extension": ".py",
   "mimetype": "text/x-python",
   "name": "python",
   "nbconvert_exporter": "python",
   "pygments_lexer": "ipython3",
   "version": "3.10.12"
  }
 },
 "nbformat": 4,
 "nbformat_minor": 5
}
