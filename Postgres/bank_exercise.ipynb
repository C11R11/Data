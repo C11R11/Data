{
 "cells": [
  {
   "cell_type": "markdown",
   "metadata": {},
   "source": [
    "# Bank account\n",
    "\n",
    "All the data is created by chat gpt is in the **bank_exercise.sql** file\n",
    "\n",
    "> first is needed to create a database called \"bank_test\"\n",
    "\n",
    "```bash\n",
    "#Connect to psql\n",
    "psql -h 0.0.0.0 -p 5432 -U postgres\n",
    "\n",
    "#Connect to database \n",
    "\\c bank_test\n",
    "\n",
    "#Execute the sql\n",
    " \\i /home/pi/data/bank_account.sql\n",
    "```\n"
   ]
  },
  {
   "cell_type": "code",
   "execution_count": 5,
   "metadata": {},
   "outputs": [
    {
     "name": "stdout",
     "output_type": "stream",
     "text": [
      "('PostgreSQL 16.3 on aarch64-unknown-linux-musl, compiled by gcc (Alpine 13.2.1_git20240309) 13.2.1 20240309, 64-bit',)\n",
      "(1, 1, 'ACC123456', 'savings', Decimal('1000.00'), datetime.datetime(2024, 7, 2, 2, 0, 57, 86209))\n",
      "(2, 1, 'ACC123457', 'checking', Decimal('500.00'), datetime.datetime(2024, 7, 2, 2, 0, 57, 86209))\n",
      "(3, 2, 'ACC123458', 'savings', Decimal('1500.00'), datetime.datetime(2024, 7, 2, 2, 0, 57, 86209))\n"
     ]
    }
   ],
   "source": [
    "import psycopg2\n",
    "\n",
    "conn = psycopg2.connect(database = \"bank_test\", \n",
    "                        user = \"postgres\", \n",
    "                        host= '192.168.1.88',\n",
    "                        password = \"1234\",\n",
    "                        port = 5432)\n",
    "\n",
    "# we use a context manager to scope the cursor session\n",
    "with conn.cursor() as curs:\n",
    "\n",
    "    try:\n",
    "        # simple single row system query\n",
    "        curs.execute(\"SELECT version()\")\n",
    "\n",
    "        # returns a single row as a tuple\n",
    "        single_row = curs.fetchone()\n",
    "\n",
    "        # use an f-string to print the single tuple returned\n",
    "        print(f\"{single_row}\")\n",
    "\n",
    "        # simple multi row system query\n",
    "        curs.execute(\"SELECT * FROM accounts\")\n",
    "\n",
    "        # a default install should include this query and some backend workers\n",
    "        many_rows = curs.fetchmany(5)\n",
    "\n",
    "        # use the * unpack operator to print many_rows which is a Python list\n",
    "        print(*many_rows, sep = \"\\n\")\n",
    "\n",
    "    # a more robust way of handling errors\n",
    "    except (Exception, psycopg2.DatabaseError) as error:\n",
    "        print(error)"
   ]
  }
 ],
 "metadata": {
  "kernelspec": {
   "display_name": "Python 3 (ipykernel)",
   "language": "python",
   "name": "python3"
  },
  "language_info": {
   "codemirror_mode": {
    "name": "ipython",
    "version": 3
   },
   "file_extension": ".py",
   "mimetype": "text/x-python",
   "name": "python",
   "nbconvert_exporter": "python",
   "pygments_lexer": "ipython3",
   "version": "3.10.12"
  }
 },
 "nbformat": 4,
 "nbformat_minor": 4
}
