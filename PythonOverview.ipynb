{
 "cells": [
  {
   "cell_type": "markdown",
   "id": "772a6d52-3a48-4c43-a07f-c1c439ccc0c6",
   "metadata": {},
   "source": [
    "## Python Namespaces\n",
    "\n",
    "When Python starts running an application, it creates a builtins namespace where\n",
    "builtins is the outermost namespace in Python and contains all of the functions you\n",
    "can access at any time. For example, the print() and open() functions exist in the\n",
    "builtins namespace."
   ]
  },
  {
   "cell_type": "code",
   "execution_count": 2,
   "id": "cf3c8406-1ec7-43ba-aaf4-1641b0144670",
   "metadata": {
    "scrolled": true
   },
   "outputs": [
    {
     "data": {
      "text/plain": [
       "['ArithmeticError',\n",
       " 'AssertionError',\n",
       " 'AttributeError',\n",
       " 'BaseException',\n",
       " 'BlockingIOError',\n",
       " 'BrokenPipeError',\n",
       " 'BufferError',\n",
       " 'BytesWarning',\n",
       " 'ChildProcessError',\n",
       " 'ConnectionAbortedError',\n",
       " 'ConnectionError',\n",
       " 'ConnectionRefusedError',\n",
       " 'ConnectionResetError',\n",
       " 'DeprecationWarning',\n",
       " 'EOFError',\n",
       " 'Ellipsis',\n",
       " 'EncodingWarning',\n",
       " 'EnvironmentError',\n",
       " 'Exception',\n",
       " 'False',\n",
       " 'FileExistsError',\n",
       " 'FileNotFoundError',\n",
       " 'FloatingPointError',\n",
       " 'FutureWarning',\n",
       " 'GeneratorExit',\n",
       " 'IOError',\n",
       " 'ImportError',\n",
       " 'ImportWarning',\n",
       " 'IndentationError',\n",
       " 'IndexError',\n",
       " 'InterruptedError',\n",
       " 'IsADirectoryError',\n",
       " 'KeyError',\n",
       " 'KeyboardInterrupt',\n",
       " 'LookupError',\n",
       " 'MemoryError',\n",
       " 'ModuleNotFoundError',\n",
       " 'NameError',\n",
       " 'None',\n",
       " 'NotADirectoryError',\n",
       " 'NotImplemented',\n",
       " 'NotImplementedError',\n",
       " 'OSError',\n",
       " 'OverflowError',\n",
       " 'PendingDeprecationWarning',\n",
       " 'PermissionError',\n",
       " 'ProcessLookupError',\n",
       " 'RecursionError',\n",
       " 'ReferenceError',\n",
       " 'ResourceWarning',\n",
       " 'RuntimeError',\n",
       " 'RuntimeWarning',\n",
       " 'StopAsyncIteration',\n",
       " 'StopIteration',\n",
       " 'SyntaxError',\n",
       " 'SyntaxWarning',\n",
       " 'SystemError',\n",
       " 'SystemExit',\n",
       " 'TabError',\n",
       " 'TimeoutError',\n",
       " 'True',\n",
       " 'TypeError',\n",
       " 'UnboundLocalError',\n",
       " 'UnicodeDecodeError',\n",
       " 'UnicodeEncodeError',\n",
       " 'UnicodeError',\n",
       " 'UnicodeTranslateError',\n",
       " 'UnicodeWarning',\n",
       " 'UserWarning',\n",
       " 'ValueError',\n",
       " 'Warning',\n",
       " 'ZeroDivisionError',\n",
       " '__IPYTHON__',\n",
       " '__build_class__',\n",
       " '__debug__',\n",
       " '__doc__',\n",
       " '__import__',\n",
       " '__loader__',\n",
       " '__name__',\n",
       " '__package__',\n",
       " '__spec__',\n",
       " 'abs',\n",
       " 'aiter',\n",
       " 'all',\n",
       " 'anext',\n",
       " 'any',\n",
       " 'ascii',\n",
       " 'bin',\n",
       " 'bool',\n",
       " 'breakpoint',\n",
       " 'bytearray',\n",
       " 'bytes',\n",
       " 'callable',\n",
       " 'chr',\n",
       " 'classmethod',\n",
       " 'compile',\n",
       " 'complex',\n",
       " 'copyright',\n",
       " 'credits',\n",
       " 'delattr',\n",
       " 'dict',\n",
       " 'dir',\n",
       " 'display',\n",
       " 'divmod',\n",
       " 'enumerate',\n",
       " 'eval',\n",
       " 'exec',\n",
       " 'execfile',\n",
       " 'filter',\n",
       " 'float',\n",
       " 'format',\n",
       " 'frozenset',\n",
       " 'get_ipython',\n",
       " 'getattr',\n",
       " 'globals',\n",
       " 'hasattr',\n",
       " 'hash',\n",
       " 'help',\n",
       " 'hex',\n",
       " 'id',\n",
       " 'input',\n",
       " 'int',\n",
       " 'isinstance',\n",
       " 'issubclass',\n",
       " 'iter',\n",
       " 'len',\n",
       " 'license',\n",
       " 'list',\n",
       " 'locals',\n",
       " 'map',\n",
       " 'max',\n",
       " 'memoryview',\n",
       " 'min',\n",
       " 'next',\n",
       " 'object',\n",
       " 'oct',\n",
       " 'open',\n",
       " 'ord',\n",
       " 'pow',\n",
       " 'print',\n",
       " 'property',\n",
       " 'range',\n",
       " 'repr',\n",
       " 'reversed',\n",
       " 'round',\n",
       " 'runfile',\n",
       " 'set',\n",
       " 'setattr',\n",
       " 'slice',\n",
       " 'sorted',\n",
       " 'staticmethod',\n",
       " 'str',\n",
       " 'sum',\n",
       " 'super',\n",
       " 'tuple',\n",
       " 'type',\n",
       " 'vars',\n",
       " 'zip']"
      ]
     },
     "execution_count": 2,
     "metadata": {},
     "output_type": "execute_result"
    }
   ],
   "source": [
    "dir(__builtins__"
   ]
  },
  {
   "cell_type": "markdown",
   "id": "4d8286a3-c672-4ed2-9cca-d8e172b1090f",
   "metadata": {},
   "source": [
    "There is something to keep in mind when working with the builtins namespace:\n",
    "it’s entirely possible to overwrite an object in a namespace with something of your\n",
    "own. For example, you could define a function like this:"
   ]
  },
  {
   "cell_type": "code",
   "execution_count": 15,
   "id": "1e0db291-5490-4c89-ad90-3332da0054a0",
   "metadata": {},
   "outputs": [
    {
     "data": {
      "text/plain": [
       "('wtf', 'wtf')"
      ]
     },
     "execution_count": 15,
     "metadata": {},
     "output_type": "execute_result"
    }
   ],
   "source": [
    "def print(out: int):\n",
    "    return \"wtf\"\n",
    "print(1),print(\"hello world\")"
   ]
  },
  {
   "cell_type": "markdown",
   "id": "6b35e7ab-4698-4758-bd90-7ee31022ebf2",
   "metadata": {},
   "source": [
    "# Built in functions"
   ]
  },
  {
   "cell_type": "markdown",
   "id": "23cd208b-945c-4629-8ad2-ad3b684711bf",
   "metadata": {},
   "source": [
    "### map()"
   ]
  },
  {
   "cell_type": "code",
   "execution_count": 3,
   "id": "1a085947-bfcb-40be-a210-fddf54ebce8a",
   "metadata": {},
   "outputs": [
    {
     "data": {
      "text/plain": [
       "[0, 1, 4, 9, 16, 25, 36, 49, 64, 81]"
      ]
     },
     "execution_count": 3,
     "metadata": {},
     "output_type": "execute_result"
    }
   ],
   "source": [
    "x = range(10)\n",
    "y = map(lambda a : a**2, x)\n",
    "list(y)\n"
   ]
  },
  {
   "cell_type": "markdown",
   "id": "0ee65de9-87ca-406e-9688-d4d4cbf405e6",
   "metadata": {},
   "source": [
    "## all()"
   ]
  },
  {
   "cell_type": "code",
   "execution_count": 7,
   "id": "f8a14116-e697-4bc1-a3a5-bc824737a63f",
   "metadata": {},
   "outputs": [
    {
     "name": "stdout",
     "output_type": "stream",
     "text": [
      "True\n",
      "False\n"
     ]
    }
   ],
   "source": [
    "x = [True] * 10\n",
    "y = all(x)\n",
    "print(y) # True\n",
    "\n",
    "x[5] = False\n",
    "y = all(x)\n",
    "print(y) #False"
   ]
  },
  {
   "cell_type": "markdown",
   "id": "b53a83d7-c481-40fe-8242-25e2280b2d02",
   "metadata": {},
   "source": [
    "## Any()"
   ]
  },
  {
   "cell_type": "code",
   "execution_count": 8,
   "id": "d98b89e9-c97a-4b68-a6c5-bb21ce5b2e8b",
   "metadata": {},
   "outputs": [
    {
     "data": {
      "text/plain": [
       "True"
      ]
     },
     "execution_count": 8,
     "metadata": {},
     "output_type": "execute_result"
    }
   ],
   "source": [
    "x = [False] * 5\n",
    "x[4] = True\n",
    "y = any(x)\n",
    "y"
   ]
  },
  {
   "cell_type": "markdown",
   "id": "4b4ccd96-8911-4c68-a0db-13953b30c936",
   "metadata": {},
   "source": [
    "## iter()"
   ]
  },
  {
   "cell_type": "code",
   "execution_count": 12,
   "id": "e45014bf-c9df-403b-821c-d887269b0bee",
   "metadata": {},
   "outputs": [
    {
     "name": "stdout",
     "output_type": "stream",
     "text": [
      "apple\n",
      "banana\n",
      "cherry\n"
     ]
    }
   ],
   "source": [
    "x = iter([\"apple\", \"banana\", \"cherry\"])\n",
    "print(next(x))\n",
    "print(next(x))\n",
    "print(next(x))"
   ]
  },
  {
   "cell_type": "markdown",
   "id": "048137b8-88f4-479f-bb5f-57d3f723c4db",
   "metadata": {},
   "source": [
    "## reversed()"
   ]
  },
  {
   "cell_type": "code",
   "execution_count": 30,
   "id": "0bbb42a0-2664-4b05-a825-9b1881d34a6f",
   "metadata": {},
   "outputs": [
    {
     "data": {
      "text/plain": [
       "(list_reverseiterator, [8, 7, 34, 1, 5, 2])"
      ]
     },
     "execution_count": 30,
     "metadata": {},
     "output_type": "execute_result"
    }
   ],
   "source": [
    "x = [2,5,1,34,7,8]\n",
    "y = reversed(x)\n",
    "type(y), [i for i in y]"
   ]
  },
  {
   "cell_type": "markdown",
   "id": "f890a7d1-2cbc-4d41-9f4b-9d83c4e8e31d",
   "metadata": {},
   "source": [
    "## sorted()"
   ]
  },
  {
   "cell_type": "code",
   "execution_count": 29,
   "id": "bfd9a704-31fe-4efd-a17e-49433639ebbd",
   "metadata": {},
   "outputs": [
    {
     "data": {
      "text/plain": [
       "(list, [34, 8, 7, 5, 2, 1])"
      ]
     },
     "execution_count": 29,
     "metadata": {},
     "output_type": "execute_result"
    }
   ],
   "source": [
    "x = [2,5,1,34,7,8]\n",
    "y = sorted(x)\n",
    "type(y), [i for i in reversed(y)]"
   ]
  },
  {
   "cell_type": "markdown",
   "id": "e964ff02-c9bf-464b-8f1a-2afb1fa70962",
   "metadata": {},
   "source": [
    "## Id()"
   ]
  },
  {
   "cell_type": "code",
   "execution_count": 23,
   "id": "fd544945-2cda-4e04-9926-d1830f42e581",
   "metadata": {},
   "outputs": [
    {
     "name": "stdout",
     "output_type": "stream",
     "text": [
      "0x7fd986f11030\n",
      "0\n"
     ]
    }
   ],
   "source": [
    "x = 123\n",
    "y = 123\n",
    "\n",
    "print(hex(id(x)))\n",
    "\n",
    "print(id(x) - id(y)) # 0"
   ]
  },
  {
   "cell_type": "code",
   "execution_count": 28,
   "id": "50b61ec3-9ca1-4014-af47-4d411644d0f1",
   "metadata": {},
   "outputs": [
    {
     "name": "stdout",
     "output_type": "stream",
     "text": [
      "0x7fd986f100f0 0x7fd986f10110 0x7fd986f10130\n",
      "0 0\n",
      "0 0\n"
     ]
    }
   ],
   "source": [
    "x = 1\n",
    "y = 2 \n",
    "z = 3\n",
    "print(hex(id(x)), hex(id(y)), hex(id(z)))\n",
    "\n",
    "a = 1\n",
    "b = x\n",
    "print(id(x) - id (a), id (a) - id (b))\n",
    "\n",
    "a = 2\n",
    "b = y\n",
    "print(id(y) - id (a), id (a) - id (b))\n"
   ]
  },
  {
   "cell_type": "markdown",
   "id": "a7ef255b-6ff4-4c8a-8613-f562cc220d0c",
   "metadata": {},
   "source": [
    "# Inmutables"
   ]
  },
  {
   "cell_type": "code",
   "execution_count": 13,
   "id": "def6a76c-1fe1-4809-aeeb-e7f7cf6d66c9",
   "metadata": {},
   "outputs": [
    {
     "ename": "TypeError",
     "evalue": "'tuple' object does not support item assignment",
     "output_type": "error",
     "traceback": [
      "\u001b[0;31m---------------------------------------------------------------------------\u001b[0m",
      "\u001b[0;31mTypeError\u001b[0m                                 Traceback (most recent call last)",
      "Cell \u001b[0;32mIn[13], line 2\u001b[0m\n\u001b[1;32m      1\u001b[0m x \u001b[38;5;241m=\u001b[39m \u001b[38;5;28mtuple\u001b[39m(\u001b[38;5;28mrange\u001b[39m(\u001b[38;5;241m3\u001b[39m))\n\u001b[0;32m----> 2\u001b[0m \u001b[43mx\u001b[49m\u001b[43m[\u001b[49m\u001b[38;5;241;43m0\u001b[39;49m\u001b[43m]\u001b[49m \u001b[38;5;241m=\u001b[39m \u001b[38;5;241m3\u001b[39m \u001b[38;5;66;03m# Error  'tuple' object does not support item assignment\u001b[39;00m\n",
      "\u001b[0;31mTypeError\u001b[0m: 'tuple' object does not support item assignment"
     ]
    }
   ],
   "source": [
    "x = tuple(range(3))\n",
    "x[0] = 3 # Error  'tuple' object does not support item assignment"
   ]
  },
  {
   "cell_type": "code",
   "execution_count": 14,
   "id": "bd2e4195-8abf-4503-85ab-985b7436758d",
   "metadata": {
    "scrolled": true
   },
   "outputs": [
    {
     "ename": "TypeError",
     "evalue": "'str' object does not support item assignment",
     "output_type": "error",
     "traceback": [
      "\u001b[0;31m---------------------------------------------------------------------------\u001b[0m",
      "\u001b[0;31mTypeError\u001b[0m                                 Traceback (most recent call last)",
      "Cell \u001b[0;32mIn[14], line 2\u001b[0m\n\u001b[1;32m      1\u001b[0m x \u001b[38;5;241m=\u001b[39m \u001b[38;5;124m\"\u001b[39m\u001b[38;5;124m123\u001b[39m\u001b[38;5;124m\"\u001b[39m\n\u001b[0;32m----> 2\u001b[0m \u001b[43mx\u001b[49m\u001b[43m[\u001b[49m\u001b[38;5;241;43m0\u001b[39;49m\u001b[43m]\u001b[49m \u001b[38;5;241m=\u001b[39m \u001b[38;5;241m3\u001b[39m \u001b[38;5;66;03m# Error'str' object does not support item assignment\u001b[39;00m\n",
      "\u001b[0;31mTypeError\u001b[0m: 'str' object does not support item assignment"
     ]
    }
   ],
   "source": [
    "x = \"123\"\n",
    "x[0] = 3 # Error'str' object does not support item assignment"
   ]
  },
  {
   "cell_type": "code",
   "execution_count": 15,
   "id": "08260217-a10e-4ac6-a568-7701459895c2",
   "metadata": {},
   "outputs": [
    {
     "ename": "TypeError",
     "evalue": "'int' object does not support item assignment",
     "output_type": "error",
     "traceback": [
      "\u001b[0;31m---------------------------------------------------------------------------\u001b[0m",
      "\u001b[0;31mTypeError\u001b[0m                                 Traceback (most recent call last)",
      "Cell \u001b[0;32mIn[15], line 2\u001b[0m\n\u001b[1;32m      1\u001b[0m x \u001b[38;5;241m=\u001b[39m \u001b[38;5;241m123\u001b[39m\n\u001b[0;32m----> 2\u001b[0m \u001b[43mx\u001b[49m\u001b[43m[\u001b[49m\u001b[38;5;241;43m0\u001b[39;49m\u001b[43m]\u001b[49m \u001b[38;5;241m=\u001b[39m \u001b[38;5;241m3\u001b[39m \u001b[38;5;66;03m# Error 'int' object does not support item assignment\u001b[39;00m\n",
      "\u001b[0;31mTypeError\u001b[0m: 'int' object does not support item assignment"
     ]
    }
   ],
   "source": [
    "x = 123\n",
    "x[0] = 3 # Error 'int' object does not support item assignment"
   ]
  }
 ],
 "metadata": {
  "kernelspec": {
   "display_name": "Python 3 (ipykernel)",
   "language": "python",
   "name": "python3"
  },
  "language_info": {
   "codemirror_mode": {
    "name": "ipython",
    "version": 3
   },
   "file_extension": ".py",
   "mimetype": "text/x-python",
   "name": "python",
   "nbconvert_exporter": "python",
   "pygments_lexer": "ipython3",
   "version": "3.10.12"
  }
 },
 "nbformat": 4,
 "nbformat_minor": 5
}
