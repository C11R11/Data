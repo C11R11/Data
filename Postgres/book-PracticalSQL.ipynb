{
 "cells": [
  {
   "cell_type": "markdown",
   "metadata": {},
   "source": [
    "# 2018 - Practical SQL_ A Beginner’s Guide to Storytelling with Data"
   ]
  },
  {
   "cell_type": "markdown",
   "metadata": {},
   "source": [
    "## Chapter 1\n",
    "\n",
    "```sql\n",
    "\n",
    "CREATE DATABASE analysis;\n",
    "\n",
    "CREATE TABLE teachers (\n",
    "id bigserial,\n",
    "first_name varchar(25),\n",
    "last_name varchar(50),\n",
    "school varchar(50),\n",
    "hire_date date,\n",
    "salary numeric\n",
    " );\n",
    "\n",
    "INSERT INTO teachers (first_name, last_name, school, hire_date, salary)\n",
    "VALUES ('Janet', 'Smith', 'F.D. Roosevelt HS', '2011-10-30', 36200),\n",
    "('Lee', 'Reynolds', 'F.D. Roosevelt HS', '1993-05-22', 65000),\n",
    "('Samuel', 'Cole', 'Myers Middle School', '2005-08-01', 43500),\n",
    "('Samantha', 'Bush', 'Myers Middle School', '2011-10-30', 36200),\n",
    "('Betty', 'Diaz', 'Myers Middle School', '2005-08-30', 43500),\n",
    "('Kathleen', 'Roush', 'F.D. Roosevelt HS', '2010-10-22', 38500);\n",
    "```\n"
   ]
  },
  {
   "cell_type": "markdown",
   "metadata": {},
   "source": [
    "## Chapter 2\n",
    "\n",
    "```sql\n",
    "```"
   ]
  }
 ],
 "metadata": {
  "language_info": {
   "name": "python"
  }
 },
 "nbformat": 4,
 "nbformat_minor": 2
}
