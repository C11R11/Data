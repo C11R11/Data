{
 "cells": [
  {
   "cell_type": "code",
   "execution_count": null,
   "id": "04cc76bc-c20f-4afa-8767-7e9cae2e4418",
   "metadata": {},
   "outputs": [],
   "source": []
  },
  {
   "cell_type": "markdown",
   "id": "ba1fd161-5dab-45e1-a903-7b5c27e01657",
   "metadata": {},
   "source": [
    "# Comprehensions\n",
    "\n",
    "## PEP 202 – List Comprehensions \n",
    "\n",
    "> 13-Jul-2000, Python 2,0\n"
   ]
  },
  {
   "cell_type": "markdown",
   "id": "d7a24bb5-e25e-4a60-b1eb-e66231f9c117",
   "metadata": {},
   "source": []
  },
  {
   "cell_type": "markdown",
   "id": "c10ef9bb-2e7f-48d2-a303-565de2ed19fc",
   "metadata": {},
   "source": [
    "## PEP 3107 – Function Annotations\n",
    "\n",
    "> 02-Dec-2006, Python-Version:3.0\n",
    "\n",
    "This PEP introduces a syntax for adding arbitrary metadata annotations to Python functions"
   ]
  },
  {
   "cell_type": "code",
   "execution_count": 17,
   "id": "a75aa04e-ea8c-43b9-8b46-9c1c6dc0f108",
   "metadata": {
    "scrolled": true
   },
   "outputs": [
    {
     "data": {
      "text/plain": [
       "(<function __main__.greeting(name: str) -> str>,\n",
       " 'Hello 2',\n",
       " {'name': str, 'return': str})"
      ]
     },
     "execution_count": 17,
     "metadata": {},
     "output_type": "execute_result"
    }
   ],
   "source": [
    "#The annotarion has no effect other than add metadata to the functions\n",
    "def greeting(name:str) -> str:\n",
    "    return 'Hello ' + name\n",
    "\n",
    "greeting, greeting(\"2\"), greeting.__annotations__"
   ]
  },
  {
   "cell_type": "markdown",
   "id": "6cb720ae-12e0-42d9-9c98-04aeac81b175",
   "metadata": {},
   "source": [
    "## PEP 484 – Type Hints\n",
    "\n",
    ">29-Sep-2014, Python-Version:3.5"
   ]
  },
  {
   "cell_type": "code",
   "execution_count": 21,
   "id": "70591d43-6190-449f-ac24-246f7ad52234",
   "metadata": {},
   "outputs": [
    {
     "data": {
      "text/plain": [
       "(<function __main__.greeting(name: str) -> str>,\n",
       " 'Hello 2',\n",
       " {'name': str, 'return': str})"
      ]
     },
     "execution_count": 21,
     "metadata": {},
     "output_type": "execute_result"
    }
   ],
   "source": [
    "def greeting(name:str) -> str:\n",
    "    return 'Hello ' + name\n",
    "\n",
    "greeting, greeting(\"2\"), greeting.__annotations__"
   ]
  },
  {
   "cell_type": "markdown",
   "id": "596bd02a-2d0b-4adc-8071-e27b30ff1f54",
   "metadata": {},
   "source": [
    "## PEP 274 – Dict Comprehensions\n",
    "\n",
    ">13-Jul-2000, Python 2.0\n",
    ">"
   ]
  },
  {
   "cell_type": "code",
   "execution_count": null,
   "id": "ba01e458-a531-409b-ae84-319a11ed7e29",
   "metadata": {},
   "outputs": [],
   "source": []
  },
  {
   "cell_type": "markdown",
   "id": "c4a169b7-cf10-435d-9bb0-300847d374bd",
   "metadata": {},
   "source": [
    "## PEP 318 – Decorators for Functions and Methods"
   ]
  },
  {
   "cell_type": "code",
   "execution_count": 22,
   "id": "3913febd-dc0e-4596-8bff-05aae1bb54be",
   "metadata": {},
   "outputs": [],
   "source": [
    "def deco(func):\n",
    "    def inner():\n",
    "        print(\"running inner()\")\n",
    "    return inner\n",
    "\n",
    "@deco\n",
    "def target():\n",
    "    print(\"running target()\")"
   ]
  },
  {
   "cell_type": "code",
   "execution_count": 23,
   "id": "2865f1d0-7565-4785-8d87-6a318a340745",
   "metadata": {},
   "outputs": [
    {
     "name": "stdout",
     "output_type": "stream",
     "text": [
      "running inner()\n"
     ]
    },
    {
     "data": {
      "text/plain": [
       "(None, <function __main__.deco.<locals>.inner()>)"
      ]
     },
     "execution_count": 23,
     "metadata": {},
     "output_type": "execute_result"
    }
   ],
   "source": [
    "target(), target"
   ]
  },
  {
   "cell_type": "markdown",
   "id": "b9c92ab6-c1c9-47dd-83b1-8925c5aed94b",
   "metadata": {},
   "source": [
    "You can have the same result by using asignments and using callables"
   ]
  },
  {
   "cell_type": "code",
   "execution_count": 27,
   "id": "576f9546-4f74-4b5e-9c38-4ae1f34f74b7",
   "metadata": {},
   "outputs": [
    {
     "name": "stdout",
     "output_type": "stream",
     "text": [
      "running inner()\n"
     ]
    },
    {
     "data": {
      "text/plain": [
       "(None, <function __main__.deco.<locals>.inner()>)"
      ]
     },
     "execution_count": 27,
     "metadata": {},
     "output_type": "execute_result"
    }
   ],
   "source": [
    "target = deco(target)\n",
    "target(), target"
   ]
  },
  {
   "cell_type": "markdown",
   "id": "44618e43-452e-4903-84b6-cafac0d7b4dc",
   "metadata": {},
   "source": [
    "Can be used to chain callbacks, like a workflow (middleware expressJs)"
   ]
  },
  {
   "cell_type": "code",
   "execution_count": 56,
   "id": "b9cba9cf-77e3-44d4-bd71-3456149ebf7f",
   "metadata": {},
   "outputs": [
    {
     "name": "stdout",
     "output_type": "stream",
     "text": [
      "executing decorator decotest 1\n",
      "executing decorator decotest 2\n",
      "executing decorator decotest 3\n",
      "running target()\n"
     ]
    }
   ],
   "source": [
    "times = {\"times\": 0}\n",
    "\n",
    "def decotest(func, times:dict = times):\n",
    "    times[\"times\"] += 1\n",
    "    print(f\"executing decorator decotest {times['times']}\")\n",
    "    return func\n",
    "\n",
    "@decotest\n",
    "@decotest\n",
    "@decotest\n",
    "def target2():\n",
    "    print(\"running target()\")\n",
    "\n",
    "target2()"
   ]
  },
  {
   "cell_type": "code",
   "execution_count": 55,
   "id": "3ac82fc6-e74f-4681-bc69-e981427a9152",
   "metadata": {},
   "outputs": [
    {
     "data": {
      "text/plain": [
       "'ss'"
      ]
     },
     "execution_count": 55,
     "metadata": {},
     "output_type": "execute_result"
    }
   ],
   "source": [
    "st = str(\"trea\")\n",
    "st = str(\"ss\")\n",
    "st"
   ]
  },
  {
   "cell_type": "code",
   "execution_count": 59,
   "id": "4ad3bd31-da28-456e-82ea-ecb08c8a4cd4",
   "metadata": {},
   "outputs": [
    {
     "name": "stdout",
     "output_type": "stream",
     "text": [
      "running register(<function f1 at 0x7fb72151b400>)\n",
      "running register(<function f2 at 0x7fb72151b2e0>)\n",
      "running main()\n",
      "registry -> [<function f1 at 0x7fb72151b400>, <function f2 at 0x7fb72151b2e0>]\n",
      "running f1()\n",
      "running f2()\n",
      "running f3()\n",
      "[<function f1 at 0x7fb72151b400>, <function f2 at 0x7fb72151b2e0>]\n"
     ]
    }
   ],
   "source": [
    "registry = []\n",
    "\n",
    "def register(func):\n",
    "    print('running register(%s)' % func)\n",
    "    registry.append(func)\n",
    "    return func\n",
    "@register\n",
    "def f1():\n",
    "    print('running f1()')\n",
    "    \n",
    "@register\n",
    "def f2():\n",
    "    print('running f2()')\n",
    "    \n",
    "def f3():\n",
    "    print('running f3()')\n",
    "\n",
    "def main():\n",
    "    print('running main()')\n",
    "    print('registry ->', registry)\n",
    "    f1()\n",
    "    f2()\n",
    "    f3()\n",
    "\n",
    "main()"
   ]
  },
  {
   "cell_type": "markdown",
   "id": "e4c6fd9e-440a-4d4e-9d9f-e2291bffe0b6",
   "metadata": {},
   "source": [
    "## PEP 3129 – Class Decorators"
   ]
  },
  {
   "cell_type": "code",
   "execution_count": null,
   "id": "e1e713db-78ce-487c-b886-d47e85d9a64b",
   "metadata": {},
   "outputs": [],
   "source": []
  }
 ],
 "metadata": {
  "kernelspec": {
   "display_name": "Python 3 (ipykernel)",
   "language": "python",
   "name": "python3"
  },
  "language_info": {
   "codemirror_mode": {
    "name": "ipython",
    "version": 3
   },
   "file_extension": ".py",
   "mimetype": "text/x-python",
   "name": "python",
   "nbconvert_exporter": "python",
   "pygments_lexer": "ipython3",
   "version": "3.10.12"
  }
 },
 "nbformat": 4,
 "nbformat_minor": 5
}
