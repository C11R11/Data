{
 "cells": [
  {
   "cell_type": "markdown",
   "id": "cdde243f-120c-4af4-be90-48170da34a50",
   "metadata": {},
   "source": [
    "## Executing sql"
   ]
  },
  {
   "cell_type": "code",
   "execution_count": 3,
   "id": "072d8b30-3e2e-4444-818e-64c4c5eba115",
   "metadata": {},
   "outputs": [
    {
     "name": "stdout",
     "output_type": "stream",
     "text": [
      "syntax error at or near \"\\\"\n",
      "LINE 6: \\c rolling_stones_best_albums2;\n",
      "        ^\n",
      "\n"
     ]
    }
   ],
   "source": [
    "import psycopg2\n",
    "\n",
    "conn = psycopg2.connect(database = \"rolling_stones_best_albums\", \n",
    "                        user = \"postgres\", \n",
    "                        host= '192.168.1.88',\n",
    "                        password = \"1234\",\n",
    "                        port = 5432)\n",
    "\n",
    "with open('rolling_stones_best_albums.sql', 'r') as file:\n",
    "    sql = file.read()\n",
    "\n",
    "# we use a context manager to scope the cursor session\n",
    "with conn.cursor() as curs:\n",
    "\n",
    "    try:\n",
    "        conn.autocommit = True\n",
    "\n",
    "        # Create a cursor\n",
    "        cur = conn.cursor()\n",
    "        \n",
    "        # Execute the SQL commands\n",
    "        cur.execute(sql)\n",
    "        \n",
    "        # Close the cursor and connection\n",
    "        cur.close()\n",
    "        conn.close()\n",
    "\n",
    "    # a more robust way of handling errors\n",
    "    except (Exception, psycopg2.DatabaseError) as error:\n",
    "        print(error)"
   ]
  }
 ],
 "metadata": {
  "kernelspec": {
   "display_name": "Python 3 (ipykernel)",
   "language": "python",
   "name": "python3"
  },
  "language_info": {
   "codemirror_mode": {
    "name": "ipython",
    "version": 3
   },
   "file_extension": ".py",
   "mimetype": "text/x-python",
   "name": "python",
   "nbconvert_exporter": "python",
   "pygments_lexer": "ipython3",
   "version": "3.10.12"
  }
 },
 "nbformat": 4,
 "nbformat_minor": 5
}
