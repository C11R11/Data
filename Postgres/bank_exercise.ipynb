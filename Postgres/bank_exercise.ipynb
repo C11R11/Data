{
 "cells": [
  {
   "cell_type": "markdown",
   "metadata": {},
   "source": [
    "# Bank account\n",
    "\n",
    "All the data is created by chat gpt is in the **bank_exercise.sql** file\n",
    "\n",
    "> first is needed to create a database called \"bank_test\"\n",
    "\n",
    "```bash\n",
    "#Connect to psql\n",
    "psql -h 0.0.0.0 -p 5432 -U postgres\n",
    "\n",
    "#Connect to database \n",
    "\\c bank_test\n",
    "\n",
    "#Execute the sql\n",
    " \\i /home/pi/data/bank_account.sql\n",
    "```\n"
   ]
  },
  {
   "cell_type": "code",
   "execution_count": null,
   "metadata": {},
   "outputs": [],
   "source": []
  },
  {
   "cell_type": "code",
   "execution_count": null,
   "metadata": {},
   "outputs": [],
   "source": []
  }
 ],
 "metadata": {
  "language_info": {
   "name": "python"
  }
 },
 "nbformat": 4,
 "nbformat_minor": 2
}
