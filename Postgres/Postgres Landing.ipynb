{
 "cells": [
  {
   "cell_type": "markdown",
   "id": "15b498aa-2004-4665-b101-c68b084536d0",
   "metadata": {},
   "source": [
    "# Container Installation\n",
    "\n",
    "Source https://medium.com/@alexisrolland/rapid-api-development-tutorial-with-docker-postgresql-postgraphile-e387c1c73dd8\n",
    "\n",
    "```bash\n",
    "# Pulling\n",
    "docker pull postgres:alpine\n",
    "\n",
    "# Creating container with volume (provide your own local paths)\n",
    "docker run --name psql -v /home/pi/data/postgresTrain -e POSTGRES_PASSWORD=<password_here> -p 5432:5432 -d postgres:alpine\n",
    "```"
   ]
  },
  {
   "cell_type": "markdown",
   "id": "c1734d18-517f-4dc2-9d9e-5dfa0dce5420",
   "metadata": {},
   "source": [
    "## Testing command line (psql)\n",
    "\n",
    "### Conection\n",
    "\n",
    "How to connect to postgres\n",
    "\n",
    "```bash\n",
    "# For connection testing purposes\n",
    "sudo apt-get install postgresql-client\n",
    "psql -h 0.0.0.0 -p 5432 -U postgres #use password defined before\n",
    "```\n",
    "\n",
    "### Hello world\n",
    "\n",
    "This is only to test everything is ok\n",
    "\n",
    "```sql\n",
    "CREATE DATABASE test_db;\n",
    "\n",
    "\\connect test_db;\n",
    "\n",
    "CREATE SCHEMA test_schema;\n",
    "\n",
    "CREATE TABLE test_schema.test_table (id SERIAL PRIMARY KEY,description TEXT);\n",
    "\n",
    "INSERT INTO test_schema.test_table (description) VALUES ('Parent description 1');\n",
    "\n",
    "SELECT * FROM test_schema.test_table;\n",
    "```\n",
    "\n",
    "### Second example\n",
    "\n",
    "Now is a bit more complete example\n",
    "```sql\n",
    "CREATE SCHEMA test_schema2;\n",
    "\n",
    "CREATE TABLE test_schema2.parent_table (\n",
    "    id SERIAL PRIMARY KEY,\n",
    "    name TEXT,\n",
    "    description TEXT,\n",
    "    created_date TIMESTAMP DEFAULT CURRENT_TIMESTAMP,\n",
    "    updated_date TIMESTAMP DEFAULT CURRENT_TIMESTAMP\n",
    ");\n",
    "\n",
    "COMMENT ON TABLE test_schema2.parent_table IS \n",
    "    'Provide a description for your parent table.';\n",
    "\n",
    "CREATE TABLE test_schema2.child_table (\n",
    "    id SERIAL PRIMARY KEY,\n",
    "    name TEXT,\n",
    "    description TEXT,\n",
    "    created_date TIMESTAMP DEFAULT CURRENT_TIMESTAMP,\n",
    "    updated_date TIMESTAMP DEFAULT CURRENT_TIMESTAMP,\n",
    "    parent_table_id INTEGER NOT NULL REFERENCES test_schema2.parent_table(id)\n",
    ");\n",
    "\n",
    "COMMENT ON TABLE test_schema2.child_table IS\n",
    "'Provide a description for your child table.';\n",
    "\n",
    "INSERT INTO test_schema2.parent_table (name, description) VALUES\n",
    "('Parent name 1', 'Parent description 1'),\n",
    "('Parent name 2', 'Parent description 2'),\n",
    "('Parent name 3', 'Parent description 3');\n",
    "\n",
    "INSERT INTO test_schema2.child_table (name, description, parent_table_id) VALUES\n",
    "('Child name 1', 'Child description 1', 1),\n",
    "('Child name 2', 'Child description 2', 2),\n",
    "('Child name 3', 'Child description 3', 3);\n",
    "\n",
    "SELECT A.id, A.name, A.description, B.id, B.name, B.description\n",
    "FROM test_schema2.parent_table A\n",
    "INNER JOIN test_schema2.child_table B ON A.id=B.parent_table_id;\n",
    "\n",
    "```\n",
    "\n",
    "> From here you can jump to run a pgadmin4 container and keep making queries (See the Postgres App Dev notebook). Keep going with more advanced Queries in a terminal can be a bit frustrating \n",
    "\n",
    "> It's recommended to play a bit more with the psql commands and options to gain experience in case something goes wrong at client side"
   ]
  },
  {
   "cell_type": "markdown",
   "id": "13e44835-31a0-4830-b0f4-2f4fea382d80",
   "metadata": {},
   "source": [
    "## Psql commands\n",
    "\n",
    "```bash\n",
    "\\dn -> list of schemas\n",
    "\\l -> list of databases\n",
    "```"
   ]
  },
  {
   "cell_type": "code",
   "execution_count": null,
   "id": "3c95200c-1413-43a5-9a2c-c5e1b8a3a219",
   "metadata": {},
   "outputs": [],
   "source": []
  },
  {
   "cell_type": "markdown",
   "id": "aa29e2e4-d521-48e8-a93d-ea8ab2ddcec6",
   "metadata": {},
   "source": [
    "## Importing data\n",
    "\n"
   ]
  },
  {
   "cell_type": "markdown",
   "id": "8c5b3a75-55c2-4a84-bcb4-503270c0f980",
   "metadata": {},
   "source": [
    "### Csv"
   ]
  },
  {
   "cell_type": "code",
   "execution_count": null,
   "id": "27805e53-358c-42e0-a44d-0d26f9f07767",
   "metadata": {},
   "outputs": [],
   "source": []
  },
  {
   "cell_type": "code",
   "execution_count": null,
   "id": "2a031ac2-d766-469f-92f0-837be617a2ca",
   "metadata": {},
   "outputs": [],
   "source": []
  }
 ],
 "metadata": {
  "kernelspec": {
   "display_name": "Python 3 (ipykernel)",
   "language": "python",
   "name": "python3"
  },
  "language_info": {
   "codemirror_mode": {
    "name": "ipython",
    "version": 3
   },
   "file_extension": ".py",
   "mimetype": "text/x-python",
   "name": "python",
   "nbconvert_exporter": "python",
   "pygments_lexer": "ipython3",
   "version": "3.10.12"
  }
 },
 "nbformat": 4,
 "nbformat_minor": 5
}
